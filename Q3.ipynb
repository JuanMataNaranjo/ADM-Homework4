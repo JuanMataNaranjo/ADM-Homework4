{
	"metadata": {
		"language_info": {
			"codemirror_mode": {
				"name": "ipython",
				"version": 3
			},
			"file_extension": ".py",
			"mimetype": "text/x-python",
			"name": "python",
			"nbconvert_exporter": "python",
			"pygments_lexer": "ipython3",
			"version": "3.8.3-final"
		},
		"orig_nbformat": 2,
		"kernelspec": {
			"name": "python3",
			"display_name": "Python 3",
			"language": "python"
		}
	},
	"nbformat": 4,
	"nbformat_minor": 2,
	"cells": [
		{
			"source": [
				"## 3. Algorithmic question\n",
				"\n",
				"Let us approach this algorithmic problem with a linear sorting technique, the counting sort. \n",
				"Counting sort assumes that for a given array, each of the n input elements is an integer in the range 0 to k, for some integer k. The basic idea of counting sort is to determine, for each input element x, the number of elements less than x. This information can be used to place element x directly into its position in the output array.\n",
				"\n",
				"In our case it is slightly different since the input elements are in the range of s to b, where s is the minimum value of the array A, and s the maximum value. Therefore, while accessing the count-array (C) we need to offset the index with the minimum value of A, since the 0-index element should correspond to the minimum value rather than 0.\n",
				"\n",
				"In writing the pseudocode for counting sort, we assume that the input is an array &nbsp; **A = [a<sub>1</sub>, a<sub>2</sub>, .. ,a<sub>n</sub>]** &nbsp; with n integer numbers, and thus &nbsp; **length [A] = n**, &nbsp; **min[A] = s**, &nbsp; **max[A] = b** &nbsp;and, the range is defined as &nbsp; **r = b – s**.\n",
				"We require two other arrays: the array &nbsp;**B = [s, .. ,b]** &nbsp;holds the sorted output, and a count-array &nbsp;**C = [c<sub>0</sub>, .. ,c<sub>b-s</sub>]**&nbsp; with a size of &nbsp;**(b - s) + 1**, since it must contain all the integer numbers between s (included) and b (included), provides a temporary working storage.\n",
				"<br/><br/>\n",
				"\n",
				"**COUNTING-SORT(A, B, b-s)**  \n",
				"1. for $i = 0$ to $[b - s]$\n",
				"2. $\\hspace{0.3cm}C[i] = 0$\n",
				"3. for $j = 1$ to $n$                                   $\\hspace{4.1cm}\\rightarrow n = len (A)$\n",
				"4. $\\hspace{0.3cm}C[A[j] - s] = C[A[j] - s] + 1$       $\\hspace{1cm}\\rightarrow C[i -s]$ now contains the number of elements equal to i.\n",
				"5. for $i = 1$ to $[b - s]$\n",
				"6. $\\hspace{0.3cm}C[i] = C[i] + C[i -1]$     $\\hspace{2.4cm}\\rightarrow C[i -s]$ now contains the number of elements less than or equal to i.\n",
				"7. for $j = n$ to $1$\n",
				"8. $\\hspace{0.3cm}B[C[A[j] - s]] = A[j]$\n",
				"9. $\\hspace{0.3cm}C[A[j] - s] = C[A[j] - s] - 1$\n",
				"\n",
				"After the initialization in the for loop of lines 1–2, we inspect each input element in the for loop of lines 3–4. If the value of an input element is i, we increment $C[i-s]$. <br />\n",
				"Thus, after line 4, $C[i - s]$ holds the number of input elements equal to i for each integer present in the array A. <br />\n",
				"In lines 5–6, we determine for each $i = 1,..., [b -s]$, how many input elements are less than or equal to i by keeping a running sum of the array C. <br />\n",
				"Finally, in the for loop of lines 7–9, we place each element $A[j]$ in its correct sorted position in the output array B. If all n elements are distinct, then when we first enter line 9, for each $A[j]$, the value $C[A[j] - s]$ is the correct final position of $A[j]$ in the output array, since there are $C[A[j] - s]$ elements less than or equal to $A[j] - s$. <br />\n",
				"Because the elements might not be distinct, we decrement $C[A[j] - s]$ each time we place a value $A[j]$ into the B array. Decrementing $C[A[j] - s]$ causes the next input element with a value equal to $A[j]$, if one exists, to go to the position immediately before $A[j]$ in the output array.<br /><br />\n",
				"\n",
				"**SO HOW MUCH TIME DOES THE COUNTING SORT REQUIRE?**\n",
				"\n",
				"The for loop of **lines 1–2** takes time in the order of $O(b-s)$ since the size of the count-array(C) is **r = b – s**, while the for loop of **lines 3–4** has a computational time of $O(n)$ since we are looping through the length of the array to be sorted (len(A) = n), likewise the for loop of **lines 5–6** has a running time of $O(b-s)$, and the for loop of **lines 7–9** takes time $O(n)$. <br />\n",
				"Thus, the overall time complexity of the algorithm is approximately &nbsp; $O(n + (b-s)) = O(n + r)$.\n",
				"\n",
				"Now, lets write the algorithm for counting sort and see if it works."
			],
			"cell_type": "markdown",
			"metadata": {}
		},
		{
			"cell_type": "code",
			"execution_count": 1,
			"metadata": {},
			"outputs": [],
			"source": [
				"import numpy as np"
			]
		},
		{
			"cell_type": "code",
			"execution_count": 2,
			"metadata": {},
			"outputs": [],
			"source": [
				"def counting_sort(arr):\n",
				"    \n",
				"    Max = max(arr)                                    \n",
				"    Min = min(arr) \n",
				"    Range = (Max - Min) + 1   \n",
				"    count_array = np.zeros(Range, int) \n",
				"    \n",
				"    for i in arr:\n",
				"        count_array[i - Min] += 1\n",
				"    for i in range(1, Range):\n",
				"        count_array[i] = count_array[i] + count_array[i - 1] \n",
				"    l = len(arr)\n",
				"    sort = np.zeros(l, int)\n",
				"    for i in arr:\n",
				"        sort[count_array[i - Min] - 1] = i\n",
				"        count_array[i - Min] -= 1\n",
				"\n",
				"    return sort"
			]
		},
		{
			"cell_type": "code",
			"execution_count": 3,
			"metadata": {},
			"outputs": [
				{
					"output_type": "stream",
					"name": "stdout",
					"text": [
						"Unsorted array:  -18 19 -11 16 -4 3 5 -17 -5 18 -19 -1 9 15 -1 9 -9 -14 -18 -12\n"
					]
				}
			],
			"source": [
				"arr = np.random.randint(-20, 20, size=20)\n",
				"print('Unsorted array: ', *arr)"
			]
		},
		{
			"cell_type": "code",
			"execution_count": 4,
			"metadata": {},
			"outputs": [
				{
					"output_type": "stream",
					"name": "stdout",
					"text": [
						"Sorted array:  -19 -18 -18 -17 -14 -12 -11 -9 -5 -4 -1 -1 3 5 9 9 15 16 18 19\n"
					]
				}
			],
			"source": [
				"sort = counting_sort(arr)\n",
				"print('Sorted array: ', *sort)"
			]
		}
	]
}