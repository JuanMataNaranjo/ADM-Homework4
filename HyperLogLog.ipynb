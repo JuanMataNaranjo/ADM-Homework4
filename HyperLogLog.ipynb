{
 "cells": [
  {
   "cell_type": "code",
   "execution_count": 1,
   "metadata": {},
   "outputs": [],
   "source": [
    "import dask.dataframe as ddf\n",
    "import pandas as pd\n",
    "import numpy as np"
   ]
  },
  {
   "cell_type": "markdown",
   "metadata": {},
   "source": [
    "##### Rational"
   ]
  },
  {
   "cell_type": "markdown",
   "metadata": {},
   "source": [
    "He feel like we need to justify why we have come up with the following has table:\n",
    "\n",
    "We started looking into different hash functions, all of them resulting in different issues:\n",
    "\n",
    "- Convert string into binary: We used the function ord() in python, but it was giving very bas results\n",
    "- Convert letters into integers using ascii and convert each individual integer into its binary: We found this also to be problematic since most strings (except the number 0) would start with 1's. It also gave a very un-evenly distributed probabilities between 0 and 1.\n",
    "\n",
    "We then finally decided to generate a binary value of 5 digits (32 possible combinations) and then also add the 4 remaining values using smaller binary values in order to keep the distribution uniform"
   ]
  },
  {
   "cell_type": "code",
   "execution_count": null,
   "metadata": {},
   "outputs": [],
   "source": []
  },
  {
   "cell_type": "markdown",
   "metadata": {},
   "source": [
    "### Clean "
   ]
  },
  {
   "cell_type": "code",
   "execution_count": 1,
   "metadata": {},
   "outputs": [],
   "source": [
    "import dask.dataframe as ddf\n",
    "import pandas as pd\n",
    "import numpy as np\n",
    "import hyperloglog as HLL\n",
    "pd.options.mode.chained_assignment = None  # default='warn'"
   ]
  },
  {
   "cell_type": "code",
   "execution_count": 2,
   "metadata": {},
   "outputs": [],
   "source": [
    "# Convert user_ids into binary values with evenly distributed probabilities of getting 0's and 1's\n",
    "header = 'Binary'\n",
    "for chunk in pd.read_csv('data/hash.txt', sep=\" \", header=None, chunksize=100000):\n",
    "    chunk.columns = ['Binary']\n",
    "\n",
    "    dask_dataframe = ddf.from_pandas(chunk, npartitions=20)\n",
    "    users_df_binary = dask_dataframe.map_partitions(HLL.string_to_binary_df, meta=chunk).compute()\n",
    "    \n",
    "    users_df_binary.to_csv('data/binary.txt', header=header, mode='a', sep=' ')\n",
    "    \n",
    "    header = None"
   ]
  },
  {
   "cell_type": "code",
   "execution_count": null,
   "metadata": {},
   "outputs": [],
   "source": [
    "cardinality, error = HLL.hyperloglog()"
   ]
  },
  {
   "cell_type": "code",
   "execution_count": null,
   "metadata": {},
   "outputs": [],
   "source": [
    "cardinality"
   ]
  },
  {
   "cell_type": "code",
   "execution_count": null,
   "metadata": {},
   "outputs": [],
   "source": []
  }
 ],
 "metadata": {
  "kernelspec": {
   "display_name": "Python [conda env:data_science_general] *",
   "language": "python",
   "name": "conda-env-data_science_general-py"
  },
  "language_info": {
   "codemirror_mode": {
    "name": "ipython",
    "version": 3
   },
   "file_extension": ".py",
   "mimetype": "text/x-python",
   "name": "python",
   "nbconvert_exporter": "python",
   "pygments_lexer": "ipython3",
   "version": "3.7.9"
  }
 },
 "nbformat": 4,
 "nbformat_minor": 4
}
